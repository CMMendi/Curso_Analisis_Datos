{
  "nbformat": 4,
  "nbformat_minor": 0,
  "metadata": {
    "colab": {
      "name": "Pandas.ipynb",
      "provenance": [],
      "toc_visible": true,
      "authorship_tag": "ABX9TyMrNj5zbB/IgXR81ZXTVICp",
      "include_colab_link": true
    },
    "kernelspec": {
      "name": "python3",
      "display_name": "Python 3"
    }
  },
  "cells": [
    {
      "cell_type": "markdown",
      "metadata": {
        "id": "view-in-github",
        "colab_type": "text"
      },
      "source": [
        "<a href=\"https://colab.research.google.com/github/CMMendi/Curso_Analisis_Datos/blob/main/Pandas.ipynb\" target=\"_parent\"><img src=\"https://colab.research.google.com/assets/colab-badge.svg\" alt=\"Open In Colab\"/></a>"
      ]
    },
    {
      "cell_type": "code",
      "metadata": {
        "id": "MV0srd4DXF_B"
      },
      "source": [
        "import pandas as pd"
      ],
      "execution_count": null,
      "outputs": []
    },
    {
      "cell_type": "code",
      "metadata": {
        "id": "0WuigIblbnBS"
      },
      "source": [
        "alquiler_municipios= pd.read_csv(r'/alquiler-madrid-municipios.csv',  index_col=False)"
      ],
      "execution_count": null,
      "outputs": []
    },
    {
      "cell_type": "code",
      "metadata": {
        "colab": {
          "base_uri": "https://localhost:8080/",
          "height": 202
        },
        "id": "18DePLt8dwmW",
        "outputId": "0b3c82d9-fcab-4a94-d07c-5548946af61c"
      },
      "source": [
        "alquiler_municipios.head()\r\n"
      ],
      "execution_count": null,
      "outputs": [
        {
          "output_type": "execute_result",
          "data": {
            "text/html": [
              "<div>\n",
              "<style scoped>\n",
              "    .dataframe tbody tr th:only-of-type {\n",
              "        vertical-align: middle;\n",
              "    }\n",
              "\n",
              "    .dataframe tbody tr th {\n",
              "        vertical-align: top;\n",
              "    }\n",
              "\n",
              "    .dataframe thead th {\n",
              "        text-align: right;\n",
              "    }\n",
              "</style>\n",
              "<table border=\"1\" class=\"dataframe\">\n",
              "  <thead>\n",
              "    <tr style=\"text-align: right;\">\n",
              "      <th></th>\n",
              "      <th>municipio</th>\n",
              "      <th>ano</th>\n",
              "      <th>quarter</th>\n",
              "      <th>precio</th>\n",
              "    </tr>\n",
              "  </thead>\n",
              "  <tbody>\n",
              "    <tr>\n",
              "      <th>0</th>\n",
              "      <td>Alcalá De Henares</td>\n",
              "      <td>2009</td>\n",
              "      <td>4</td>\n",
              "      <td>8.561386</td>\n",
              "    </tr>\n",
              "    <tr>\n",
              "      <th>1</th>\n",
              "      <td>Alcobendas</td>\n",
              "      <td>2009</td>\n",
              "      <td>4</td>\n",
              "      <td>NaN</td>\n",
              "    </tr>\n",
              "    <tr>\n",
              "      <th>2</th>\n",
              "      <td>Alcorcón</td>\n",
              "      <td>2009</td>\n",
              "      <td>4</td>\n",
              "      <td>8.792037</td>\n",
              "    </tr>\n",
              "    <tr>\n",
              "      <th>3</th>\n",
              "      <td>Alpedrete</td>\n",
              "      <td>2009</td>\n",
              "      <td>4</td>\n",
              "      <td>NaN</td>\n",
              "    </tr>\n",
              "    <tr>\n",
              "      <th>4</th>\n",
              "      <td>Aranjuez</td>\n",
              "      <td>2009</td>\n",
              "      <td>4</td>\n",
              "      <td>7.750625</td>\n",
              "    </tr>\n",
              "  </tbody>\n",
              "</table>\n",
              "</div>"
            ],
            "text/plain": [
              "           municipio   ano  quarter    precio\n",
              "0  Alcalá De Henares  2009        4  8.561386\n",
              "1         Alcobendas  2009        4       NaN\n",
              "2           Alcorcón  2009        4  8.792037\n",
              "3          Alpedrete  2009        4       NaN\n",
              "4           Aranjuez  2009        4  7.750625"
            ]
          },
          "metadata": {
            "tags": []
          },
          "execution_count": 27
        }
      ]
    },
    {
      "cell_type": "code",
      "metadata": {
        "colab": {
          "base_uri": "https://localhost:8080/",
          "height": 202
        },
        "id": "5rJzFxRSe_u7",
        "outputId": "6b66d588-6277-424a-8842-7e62cf8396d3"
      },
      "source": [
        "alquiler_municipios.tail()"
      ],
      "execution_count": null,
      "outputs": [
        {
          "output_type": "execute_result",
          "data": {
            "text/html": [
              "<div>\n",
              "<style scoped>\n",
              "    .dataframe tbody tr th:only-of-type {\n",
              "        vertical-align: middle;\n",
              "    }\n",
              "\n",
              "    .dataframe tbody tr th {\n",
              "        vertical-align: top;\n",
              "    }\n",
              "\n",
              "    .dataframe thead th {\n",
              "        text-align: right;\n",
              "    }\n",
              "</style>\n",
              "<table border=\"1\" class=\"dataframe\">\n",
              "  <thead>\n",
              "    <tr style=\"text-align: right;\">\n",
              "      <th></th>\n",
              "      <th>municipio</th>\n",
              "      <th>ano</th>\n",
              "      <th>quarter</th>\n",
              "      <th>precio</th>\n",
              "    </tr>\n",
              "  </thead>\n",
              "  <tbody>\n",
              "    <tr>\n",
              "      <th>1185</th>\n",
              "      <td>Torrelodones</td>\n",
              "      <td>2018</td>\n",
              "      <td>2</td>\n",
              "      <td>10.553534</td>\n",
              "    </tr>\n",
              "    <tr>\n",
              "      <th>1186</th>\n",
              "      <td>Tres Cantos</td>\n",
              "      <td>2018</td>\n",
              "      <td>2</td>\n",
              "      <td>10.781348</td>\n",
              "    </tr>\n",
              "    <tr>\n",
              "      <th>1187</th>\n",
              "      <td>Valdemoro</td>\n",
              "      <td>2018</td>\n",
              "      <td>2</td>\n",
              "      <td>7.812653</td>\n",
              "    </tr>\n",
              "    <tr>\n",
              "      <th>1188</th>\n",
              "      <td>Villanueva De La Cañada</td>\n",
              "      <td>2018</td>\n",
              "      <td>2</td>\n",
              "      <td>11.632276</td>\n",
              "    </tr>\n",
              "    <tr>\n",
              "      <th>1189</th>\n",
              "      <td>Villaviciosa De Odón</td>\n",
              "      <td>2018</td>\n",
              "      <td>2</td>\n",
              "      <td>14.050801</td>\n",
              "    </tr>\n",
              "  </tbody>\n",
              "</table>\n",
              "</div>"
            ],
            "text/plain": [
              "                    municipio   ano  quarter     precio\n",
              "1185             Torrelodones  2018        2  10.553534\n",
              "1186              Tres Cantos  2018        2  10.781348\n",
              "1187                Valdemoro  2018        2   7.812653\n",
              "1188  Villanueva De La Cañada  2018        2  11.632276\n",
              "1189     Villaviciosa De Odón  2018        2  14.050801"
            ]
          },
          "metadata": {
            "tags": []
          },
          "execution_count": 26
        }
      ]
    },
    {
      "cell_type": "code",
      "metadata": {
        "colab": {
          "base_uri": "https://localhost:8080/"
        },
        "id": "hEg8GQz4fKXt",
        "outputId": "cddb230d-b22b-4d86-b291-b4267d66f0f0"
      },
      "source": [
        "alquiler_municipios.shape"
      ],
      "execution_count": null,
      "outputs": [
        {
          "output_type": "execute_result",
          "data": {
            "text/plain": [
              "(1190, 4)"
            ]
          },
          "metadata": {
            "tags": []
          },
          "execution_count": 30
        }
      ]
    },
    {
      "cell_type": "code",
      "metadata": {
        "colab": {
          "base_uri": "https://localhost:8080/"
        },
        "id": "OI0-lihUfYWO",
        "outputId": "81342027-8cba-465d-be3f-624d16be4fca"
      },
      "source": [
        "!git init"
      ],
      "execution_count": null,
      "outputs": [
        {
          "output_type": "stream",
          "text": [
            "Reinitialized existing Git repository in /content/.git/\n"
          ],
          "name": "stdout"
        }
      ]
    },
    {
      "cell_type": "code",
      "metadata": {
        "colab": {
          "base_uri": "https://localhost:8080/"
        },
        "id": "tSQHxbx8fbIJ",
        "outputId": "5d9d0e20-aa4a-419f-c91d-3bf9b9caec52"
      },
      "source": [
        "!git status"
      ],
      "execution_count": null,
      "outputs": [
        {
          "output_type": "stream",
          "text": [
            "On branch master\n",
            "\n",
            "No commits yet\n",
            "\n",
            "Changes to be committed:\n",
            "  (use \"git rm --cached <file>...\" to unstage)\n",
            "\n",
            "\t\u001b[32mnew file:   .config/.last_opt_in_prompt.yaml\u001b[m\n",
            "\t\u001b[32mnew file:   .config/.last_survey_prompt.yaml\u001b[m\n",
            "\t\u001b[32mnew file:   .config/.last_update_check.json\u001b[m\n",
            "\t\u001b[32mnew file:   .config/.metricsUUID\u001b[m\n",
            "\t\u001b[32mnew file:   .config/active_config\u001b[m\n",
            "\t\u001b[32mnew file:   .config/config_sentinel\u001b[m\n",
            "\t\u001b[32mnew file:   .config/configurations/config_default\u001b[m\n",
            "\t\u001b[32mnew file:   .config/gce\u001b[m\n",
            "\t\u001b[32mnew file:   .config/logs/2021.01.06/18.08.59.464978.log\u001b[m\n",
            "\t\u001b[32mnew file:   .config/logs/2021.01.06/18.09.18.488400.log\u001b[m\n",
            "\t\u001b[32mnew file:   .config/logs/2021.01.06/18.09.32.091151.log\u001b[m\n",
            "\t\u001b[32mnew file:   .config/logs/2021.01.06/18.09.37.271649.log\u001b[m\n",
            "\t\u001b[32mnew file:   .config/logs/2021.01.06/18.09.52.134983.log\u001b[m\n",
            "\t\u001b[32mnew file:   .config/logs/2021.01.06/18.09.52.643360.log\u001b[m\n",
            "\t\u001b[32mnew file:   sample_data/README.md\u001b[m\n",
            "\t\u001b[32mnew file:   sample_data/anscombe.json\u001b[m\n",
            "\t\u001b[32mnew file:   sample_data/california_housing_test.csv\u001b[m\n",
            "\t\u001b[32mnew file:   sample_data/california_housing_train.csv\u001b[m\n",
            "\t\u001b[32mnew file:   sample_data/mnist_test.csv\u001b[m\n",
            "\t\u001b[32mnew file:   sample_data/mnist_train_small.csv\u001b[m\n",
            "\n"
          ],
          "name": "stdout"
        }
      ]
    },
    {
      "cell_type": "code",
      "metadata": {
        "colab": {
          "base_uri": "https://localhost:8080/"
        },
        "id": "W0ObqSurhOap",
        "outputId": "0bb25b49-0609-49f6-a358-d116fc21a5d9"
      },
      "source": [
        "!git rm -r *"
      ],
      "execution_count": null,
      "outputs": [
        {
          "output_type": "stream",
          "text": [
            "error: the following files have changes staged in the index:\n",
            "    sample_data/README.md\n",
            "    sample_data/anscombe.json\n",
            "    sample_data/california_housing_test.csv\n",
            "    sample_data/california_housing_train.csv\n",
            "    sample_data/mnist_test.csv\n",
            "    sample_data/mnist_train_small.csv\n",
            "(use --cached to keep the file, or -f to force removal)\n"
          ],
          "name": "stdout"
        }
      ]
    },
    {
      "cell_type": "code",
      "metadata": {
        "colab": {
          "base_uri": "https://localhost:8080/"
        },
        "id": "01iSTczYh6mY",
        "outputId": "0a0ddc39-c860-48f1-f261-5a85d826f10f"
      },
      "source": [
        "!git rm -r --cached ."
      ],
      "execution_count": null,
      "outputs": [
        {
          "output_type": "stream",
          "text": [
            "rm '.config/.last_opt_in_prompt.yaml'\n",
            "rm '.config/.last_survey_prompt.yaml'\n",
            "rm '.config/.last_update_check.json'\n",
            "rm '.config/.metricsUUID'\n",
            "rm '.config/active_config'\n",
            "rm '.config/config_sentinel'\n",
            "rm '.config/configurations/config_default'\n",
            "rm '.config/gce'\n",
            "rm '.config/logs/2021.01.06/18.08.59.464978.log'\n",
            "rm '.config/logs/2021.01.06/18.09.18.488400.log'\n",
            "rm '.config/logs/2021.01.06/18.09.32.091151.log'\n",
            "rm '.config/logs/2021.01.06/18.09.37.271649.log'\n",
            "rm '.config/logs/2021.01.06/18.09.52.134983.log'\n",
            "rm '.config/logs/2021.01.06/18.09.52.643360.log'\n",
            "rm 'sample_data/README.md'\n",
            "rm 'sample_data/anscombe.json'\n",
            "rm 'sample_data/california_housing_test.csv'\n",
            "rm 'sample_data/california_housing_train.csv'\n",
            "rm 'sample_data/mnist_test.csv'\n",
            "rm 'sample_data/mnist_train_small.csv'\n"
          ],
          "name": "stdout"
        }
      ]
    },
    {
      "cell_type": "code",
      "metadata": {
        "id": "ExcZuXhEi5li",
        "colab": {
          "base_uri": "https://localhost:8080/"
        },
        "outputId": "bf85a37e-5182-498f-cfa5-b8a1dc47e4a5"
      },
      "source": [
        "!git status"
      ],
      "execution_count": null,
      "outputs": [
        {
          "output_type": "stream",
          "text": [
            "On branch master\n",
            "\n",
            "No commits yet\n",
            "\n",
            "Untracked files:\n",
            "  (use \"git add <file>...\" to include in what will be committed)\n",
            "\n",
            "\t\u001b[31m.config/\u001b[m\n",
            "\t\u001b[31msample_data/\u001b[m\n",
            "\n",
            "nothing added to commit but untracked files present (use \"git add\" to track)\n"
          ],
          "name": "stdout"
        }
      ]
    }
  ]
}